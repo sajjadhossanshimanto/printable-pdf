{
 "cells": [
  {
   "cell_type": "code",
   "execution_count": 3,
   "metadata": {},
   "outputs": [],
   "source": [
    "import cv2\n",
    "from matplotlib import pyplot as plt"
   ]
  },
  {
   "cell_type": "code",
   "execution_count": 4,
   "metadata": {},
   "outputs": [],
   "source": [
    "def show_image(img):\n",
    "    plt.imshow(cv2.cvtColor(img, cv2.COLOR_BGR2RGB))\n",
    "    plt.axis(\"off\")\n",
    "    plt.show()"
   ]
  },
  {
   "cell_type": "markdown",
   "metadata": {},
   "source": [
    "### pdf to image"
   ]
  },
  {
   "cell_type": "code",
   "execution_count": null,
   "metadata": {},
   "outputs": [
    {
     "ename": "TypeError",
     "evalue": "unsupported operand type(s) for +=: 'itertools.count' and 'int'",
     "output_type": "error",
     "traceback": [
      "\u001b[1;31m---------------------------------------------------------------------------\u001b[0m",
      "\u001b[1;31mTypeError\u001b[0m                                 Traceback (most recent call last)",
      "Cell \u001b[1;32mIn[9], line 18\u001b[0m\n\u001b[0;32m     13\u001b[0m images \u001b[38;5;241m=\u001b[39m convert_from_path(pdf_path, fmt\u001b[38;5;241m=\u001b[39m\u001b[38;5;124m\"\u001b[39m\u001b[38;5;124mpng\u001b[39m\u001b[38;5;124m\"\u001b[39m, dpi\u001b[38;5;241m=\u001b[39m\u001b[38;5;241m400\u001b[39m, output_folder\u001b[38;5;241m=\u001b[39m\u001b[38;5;124m\"\u001b[39m\u001b[38;5;124mimg\u001b[39m\u001b[38;5;124m\"\u001b[39m, paths_only\u001b[38;5;241m=\u001b[39m\u001b[38;5;28;01mTrue\u001b[39;00m, output_file\u001b[38;5;241m=\u001b[39mcounter_generator())\n\u001b[0;32m     15\u001b[0m \u001b[38;5;28;01mfor\u001b[39;00m i \u001b[38;5;129;01min\u001b[39;00m \u001b[38;5;28mrange\u001b[39m(\u001b[38;5;28mlen\u001b[39m(images)):\n\u001b[0;32m     16\u001b[0m     \u001b[38;5;66;03m# Save pages as images in the pdf\u001b[39;00m\n\u001b[0;32m     17\u001b[0m     \u001b[38;5;66;03m# images[i].save(f'img\\che_page{c}.jpg', 'JPEG')\u001b[39;00m\n\u001b[1;32m---> 18\u001b[0m     \u001b[43mc\u001b[49m\u001b[38;5;241;43m+\u001b[39;49m\u001b[38;5;241;43m=\u001b[39;49m\u001b[38;5;241;43m1\u001b[39;49m\n\u001b[0;32m     20\u001b[0m     \u001b[38;5;28mprint\u001b[39m(images[i])\n\u001b[0;32m     21\u001b[0m     \u001b[38;5;28;01mbreak\u001b[39;00m\n",
      "\u001b[1;31mTypeError\u001b[0m: unsupported operand type(s) for +=: 'itertools.count' and 'int'"
     ]
    }
   ],
   "source": [
    "# import module\n",
    "from pdf2image import convert_from_path\n",
    "from pdf2image.generators import counter_generator\n",
    "from pathlib import Path\n",
    "from itertools import count\n",
    "\n",
    "c=0\n",
    "# for j in range(1, 118):\n",
    "pdf_path = f'Module 01_questionshimanto.pdf'\n",
    "\n",
    "# Store Pdf with convert_from_path function\n",
    "pdf_path = Path(pdf_path)\n",
    "images = convert_from_path(pdf_path, fmt=\"png\", dpi=400, output_folder=\"img\", paths_only=True, output_file=counter_generator())\n",
    "\n",
    "for i in range(len(images)):\n",
    "    # Save pages as images in the pdf\n",
    "    # images[i].save(f'img\\che_page{c}.jpg', 'JPEG')\n",
    "    c+=1\n",
    "\n",
    "    print(images[i])\n",
    "    break"
   ]
  },
  {
   "cell_type": "markdown",
   "metadata": {},
   "source": [
    "### Auto trim"
   ]
  },
  {
   "cell_type": "code",
   "execution_count": null,
   "metadata": {},
   "outputs": [],
   "source": [
    "def auto_trim(image, pad=10):\n",
    "    gray = cv2.cvtColor(image, cv2.COLOR_BGR2GRAY)\n",
    "    _, thresh = cv2.threshold(gray, 240, 255, cv2.THRESH_BINARY_INV)\n",
    "\n",
    "    contours, _ = cv2.findContours(thresh, cv2.RETR_EXTERNAL, cv2.CHAIN_APPROX_SIMPLE)\n",
    "\n",
    "    x_min, y_min, x_max, y_max = image.shape[1], image.shape[0], 0, 0\n",
    "    for cnt in contours:\n",
    "        x, y, w, h = cv2.boundingRect(cnt)\n",
    "        x_min, y_min = min(x_min, x), min(y_min, y)\n",
    "        x_max, y_max = max(x_max, x + w), max(y_max, y + h)\n",
    "        # break\n",
    "\n",
    "    cropped = image[y_min-pad:y_max+pad, x_min-pad:x_max+pad]\n",
    "    return cropped\n"
   ]
  },
  {
   "cell_type": "code",
   "execution_count": null,
   "metadata": {},
   "outputs": [],
   "source": [
    "def fix_crop(img):\n",
    "    # size for chemistry book -> cropped padding from all sides\n",
    "    return img[75:1650, 100:1300]\n",
    "    # # size for ame slides -> crop only a bit from buttom\n",
    "    # return img[900: , :"
   ]
  },
  {
   "cell_type": "code",
   "execution_count": null,
   "metadata": {},
   "outputs": [],
   "source": [
    "img = cv2.imread(\"essential chemistry\\che_page864.jpg\")"
   ]
  },
  {
   "cell_type": "code",
   "execution_count": null,
   "metadata": {},
   "outputs": [],
   "source": [
    "cv2.imwrite(\"b.png\", croped)"
   ]
  },
  {
   "cell_type": "markdown",
   "metadata": {},
   "source": [
    "### img to pdf"
   ]
  },
  {
   "cell_type": "code",
   "execution_count": null,
   "metadata": {},
   "outputs": [],
   "source": [
    "from PIL import Image\n",
    "import os\n",
    "\n",
    "path = r\"D:\\coding\\printable-pdf\\img\\5\"\n",
    "images = [\n",
    "    Image.open(path + \"\\\\\" + f)\n",
    "    for f in os.listdir(path)\n",
    "]\n",
    "\n",
    "pdf_path = f\"{path}\\\\bbd1.pdf\"\n",
    "    \n",
    "images[0].save(\n",
    "    pdf_path, \"PDF\" ,resolution=100.0, save_all=True, append_images=images[1:]\n",
    ")"
   ]
  },
  {
   "cell_type": "code",
   "execution_count": null,
   "metadata": {},
   "outputs": [],
   "source": []
  }
 ],
 "metadata": {
  "kernelspec": {
   "display_name": "Python 3",
   "language": "python",
   "name": "python3"
  },
  "language_info": {
   "codemirror_mode": {
    "name": "ipython",
    "version": 3
   },
   "file_extension": ".py",
   "mimetype": "text/x-python",
   "name": "python",
   "nbconvert_exporter": "python",
   "pygments_lexer": "ipython3",
   "version": "3.11.9"
  }
 },
 "nbformat": 4,
 "nbformat_minor": 2
}

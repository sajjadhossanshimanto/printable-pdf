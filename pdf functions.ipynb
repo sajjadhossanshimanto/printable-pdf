{
 "cells": [
  {
   "cell_type": "code",
   "execution_count": 3,
   "metadata": {},
   "outputs": [],
   "source": [
    "import cv2\n",
    "from matplotlib import pyplot as plt"
   ]
  },
  {
   "cell_type": "code",
   "execution_count": 4,
   "metadata": {},
   "outputs": [],
   "source": [
    "def show_image(img):\n",
    "    plt.imshow(cv2.cvtColor(img, cv2.COLOR_BGR2RGB))\n",
    "    plt.axis(\"off\")\n",
    "    plt.show()"
   ]
  },
  {
   "cell_type": "markdown",
   "metadata": {},
   "source": [
    "### pdf to image"
   ]
  },
  {
   "cell_type": "code",
   "execution_count": 14,
   "metadata": {},
   "outputs": [],
   "source": [
    "# import module\n",
    "from pdf2image import convert_from_path\n",
    "from pdf2image.generators import counter_generator\n",
    "from pathlib import Path\n",
    "\n",
    "\n",
    "def pdf_to_img(pdf_path, dst_folder):\n",
    "    '''\n",
    "    dst_folder: must exist.\n",
    "    '''\n",
    "    images = convert_from_path(pdf_path, fmt=\"png\", dpi=300, output_folder=str(out), paths_only=True, output_file=counter_generator())\n",
    "    return images\n"
   ]
  },
  {
   "cell_type": "code",
   "execution_count": null,
   "metadata": {},
   "outputs": [],
   "source": [
    "pdf_path = r'C:\\Users\\Lenovo ideaPad 3\\Downloads\\Documents\\IDC (1) (1) pdf format.pdf'\n",
    "\n",
    "# Store Pdf with convert_from_path function\n",
    "pdf_path = Path(pdf_path)\n",
    "out = Path(\"img\")\n",
    "out.mkdir()# rase exception as an warning\n",
    "\n",
    "\n",
    "images = pdf_to_img(pdf_path, out)\n",
    "# for i in range(len(images)):\n",
    "#     # Save pages as images in the pdf\n",
    "#     # images[i].save(f'img\\che_page{c}.jpg', 'JPEG')\n",
    "#     c+=1\n",
    "\n",
    "#     print(images[i])\n",
    "#     # break"
   ]
  },
  {
   "cell_type": "markdown",
   "metadata": {},
   "source": [
    "### Auto trim"
   ]
  },
  {
   "cell_type": "code",
   "execution_count": null,
   "metadata": {},
   "outputs": [],
   "source": [
    "def auto_trim(image, pad=10):\n",
    "    gray = cv2.cvtColor(image, cv2.COLOR_BGR2GRAY)\n",
    "    _, thresh = cv2.threshold(gray, 240, 255, cv2.THRESH_BINARY_INV)\n",
    "\n",
    "    contours, _ = cv2.findContours(thresh, cv2.RETR_EXTERNAL, cv2.CHAIN_APPROX_SIMPLE)\n",
    "\n",
    "    x_min, y_min, x_max, y_max = image.shape[1], image.shape[0], 0, 0\n",
    "    for cnt in contours:\n",
    "        x, y, w, h = cv2.boundingRect(cnt)\n",
    "        x_min, y_min = min(x_min, x), min(y_min, y)\n",
    "        x_max, y_max = max(x_max, x + w), max(y_max, y + h)\n",
    "        # break\n",
    "\n",
    "    cropped = image[y_min-pad:y_max+pad, x_min-pad:x_max+pad]\n",
    "    return cropped\n"
   ]
  },
  {
   "cell_type": "code",
   "execution_count": null,
   "metadata": {},
   "outputs": [],
   "source": [
    "def fix_crop(img):\n",
    "    # size for chemistry book -> cropped padding from all sides\n",
    "    return img[75:1650, 100:1300]\n",
    "    # # size for ame slides -> crop only a bit from buttom\n",
    "    # return img[900: , :"
   ]
  },
  {
   "cell_type": "code",
   "execution_count": null,
   "metadata": {},
   "outputs": [],
   "source": [
    "img = cv2.imread(\"essential chemistry\\che_page864.jpg\")"
   ]
  },
  {
   "cell_type": "code",
   "execution_count": null,
   "metadata": {},
   "outputs": [],
   "source": [
    "cv2.imwrite(\"b.png\", croped)"
   ]
  },
  {
   "cell_type": "markdown",
   "metadata": {},
   "source": [
    "### img to pdf"
   ]
  },
  {
   "cell_type": "code",
   "execution_count": 28,
   "metadata": {},
   "outputs": [],
   "source": [
    "from PIL import Image\n",
    "import os\n",
    "\n",
    "def _from_img_list(images, pdf_path):\n",
    "    images[0].save(\n",
    "        pdf_path, \"PDF\" ,resolution=100.0, save_all=True, append_images=images[1:]\n",
    "    )\n",
    "\n",
    "def img_to_pdf(folder_path):\n",
    "    images = [\n",
    "        Image.open(path + \"\\\\\" + f)\n",
    "        for f in os.listdir(folder_path)\n",
    "    ]\n",
    "\n",
    "    pdf_path = f\"{folder_path}\\\\bbd1.pdf\"\n",
    "    _from_img_list(images, pdf_path)\n"
   ]
  },
  {
   "cell_type": "code",
   "execution_count": null,
   "metadata": {},
   "outputs": [],
   "source": [
    "path = r\"D:\\coding\\printable-pdf\\img\\5\"\n",
    "# path = r\"mod 1 q\\black_white\"\n",
    "path = r\"essential chemistry\\20\\black_white\"\n",
    "path = r\"D:\\coding\\printable-pdf\\presentation\\black_white\\collaged\"\n",
    "path = r\"img\\collaged\"\n",
    "\n",
    "img_to_pdf(path)"
   ]
  },
  {
   "cell_type": "markdown",
   "metadata": {},
   "source": [
    "### split odd even"
   ]
  },
  {
   "cell_type": "code",
   "execution_count": 25,
   "metadata": {},
   "outputs": [],
   "source": [
    "import numpy as np\n",
    "def color_fill(shape, color:int = 255):\n",
    "    img = np.zeros(shape,dtype=np.uint8)\n",
    "    img.fill(color)\n",
    "    return img"
   ]
  },
  {
   "cell_type": "code",
   "execution_count": 7,
   "metadata": {},
   "outputs": [],
   "source": [
    "pdf_path = \"Module 01_questionshimanto.pdf\"\n",
    "out = Path(\"img\")\n",
    "out.mkdir()# rase exception as an warning"
   ]
  },
  {
   "cell_type": "code",
   "execution_count": 8,
   "metadata": {},
   "outputs": [],
   "source": [
    "images = pdf_to_img(pdf_path, out)"
   ]
  },
  {
   "cell_type": "code",
   "execution_count": null,
   "metadata": {},
   "outputs": [],
   "source": [
    "if len(images)&1:# odd\n",
    "    img = cv2.imread(images[-1])\n",
    "    img = color_fill(img.shape)\n",
    "    # plot_images(img)\n",
    "    # out.joinpath(f\"0001-{len(images)}.png\")\n",
    "    dst = out.joinpath(\"blank.png\")\n",
    "    cv2.imwrite(dst, img)"
   ]
  },
  {
   "cell_type": "code",
   "execution_count": 31,
   "metadata": {},
   "outputs": [],
   "source": [
    "from PIL import Image\n",
    "\n",
    "odd = []\n",
    "for i in range(0, len(images), 2):\n",
    "    odd.append(Image.open(images[i]))\n",
    "\n",
    "even = []\n",
    "for i in range(1, len(images), 2):\n",
    "    even.append(Image.open(images[i]))\n",
    "\n",
    "\n",
    "_from_img_list(odd, out.joinpath(\"odd.pdf\"))\n",
    "_from_img_list(even, out.joinpath(\"even.pdf\"))"
   ]
  },
  {
   "cell_type": "code",
   "execution_count": null,
   "metadata": {},
   "outputs": [],
   "source": []
  }
 ],
 "metadata": {
  "kernelspec": {
   "display_name": "Python 3",
   "language": "python",
   "name": "python3"
  },
  "language_info": {
   "codemirror_mode": {
    "name": "ipython",
    "version": 3
   },
   "file_extension": ".py",
   "mimetype": "text/x-python",
   "name": "python",
   "nbconvert_exporter": "python",
   "pygments_lexer": "ipython3",
   "version": "3.11.9"
  }
 },
 "nbformat": 4,
 "nbformat_minor": 2
}

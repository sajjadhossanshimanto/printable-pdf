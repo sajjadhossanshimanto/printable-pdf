{
 "cells": [
  {
   "cell_type": "code",
   "execution_count": 2,
   "metadata": {},
   "outputs": [],
   "source": [
    "import cv2\n",
    "import matplotlib.pyplot as plt\n",
    "import numpy as np\n",
    "from pathlib  import Path\n",
    "import re\n",
    "import os\n",
    "\n",
    "# from google.colab.patches import cv2_imshow\n"
   ]
  },
  {
   "cell_type": "code",
   "execution_count": 3,
   "metadata": {},
   "outputs": [],
   "source": [
    "def show_images(*images, wait=True):\n",
    "    \"\"\"Display multiple images with one line of code\"\"\"\n",
    "\n",
    "    for image in images:\n",
    "        cv2_imshow(image)\n",
    "\n",
    "    # if wait:\n",
    "    #     cv2.waitKey(0)\n",
    "    #     cv2.destroyAllWindows()"
   ]
  },
  {
   "cell_type": "code",
   "execution_count": 4,
   "metadata": {},
   "outputs": [],
   "source": [
    "def plot_color_hist(img):\n",
    "    # Histogram plotting of the imagr\n",
    "    color = ('b', 'g', 'r')\n",
    "\n",
    "    for i, col in enumerate(color):\n",
    "        histr = cv2.calcHist([img],\n",
    "                            [i], None,\n",
    "                            [256],\n",
    "                            [0, 256])\n",
    "        plt.plot(histr, color = col)\n",
    "        plt.xlim([0, 256])\n",
    "\n",
    "    plt.show()"
   ]
  },
  {
   "cell_type": "code",
   "execution_count": 5,
   "metadata": {},
   "outputs": [],
   "source": [
    "def invert_bgr(img_bgr):\n",
    "    ''' inplace = true'''\n",
    "\n",
    "    # get height and width of the image\n",
    "    height, width, _ = img_bgr.shape\n",
    "    for i in range(0, height - 1):\n",
    "        for j in range(0, width - 1):\n",
    "            # Get the pixel value\n",
    "            pixel = img_bgr[i, j]\n",
    "\n",
    "            # Negate each channel by\n",
    "            # subtracting it from 255\n",
    "            pixel[0] = 255 - pixel[0]\n",
    "            pixel[1] = 255 - pixel[1]\n",
    "            pixel[2] = 255 - pixel[2]\n",
    "\n",
    "            img_bgr[i, j] = pixel\n",
    "    return pixels"
   ]
  },
  {
   "cell_type": "code",
   "execution_count": 6,
   "metadata": {},
   "outputs": [],
   "source": [
    "def convert_bw(img):\n",
    "    im_gray = cv2.cvtColor(img, cv2.COLOR_BGR2GRAY)\n",
    "    (thresh, im_bw) = cv2.threshold(im_gray, 128, 255, cv2.THRESH_BINARY | cv2.THRESH_OTSU)\n",
    "    # thresh = 137\n",
    "    print(thresh)\n",
    "    im_bw = cv2.threshold(im_gray, thresh, 255, cv2.THRESH_BINARY)[1]\n",
    "    return im_bw"
   ]
  },
  {
   "cell_type": "code",
   "execution_count": 7,
   "metadata": {},
   "outputs": [],
   "source": [
    "def invert_bw(img_bw):\n",
    "    ''' inplace = true'''\n",
    "    # get height and width of the image\n",
    "    height, width = img_bw.shape\n",
    "    for i in range(0, height - 1):\n",
    "        for j in range(0, width - 1):\n",
    "\n",
    "            # Get the pixel value\n",
    "            img_bw[i, j] = 255 - img_bw[i, j]\n",
    "    return img_bw"
   ]
  },
  {
   "cell_type": "code",
   "execution_count": 8,
   "metadata": {},
   "outputs": [],
   "source": [
    "def remove_colored_bg(img):\n",
    "    img_bw = convert_bw(img)\n",
    "    invert_bw(img_bw)\n",
    "\n",
    "    return img_bw"
   ]
  },
  {
   "cell_type": "code",
   "execution_count": 9,
   "metadata": {},
   "outputs": [],
   "source": [
    "def plot_images(*imgs):\n",
    "    for img in imgs:\n",
    "        plt.imshow(img)\n",
    "        plt.show()"
   ]
  },
  {
   "cell_type": "code",
   "execution_count": 10,
   "metadata": {},
   "outputs": [],
   "source": [
    "def save_img(img, dst):\n",
    "    if isinstance(dst, Path):\n",
    "        dst = str(dst.absolute())\n",
    "\n",
    "    cv2.imwrite(dst, img)"
   ]
  },
  {
   "cell_type": "code",
   "execution_count": 12,
   "metadata": {},
   "outputs": [],
   "source": [
    "def collage_pic(src:str, file_list):\n",
    "    ''' file_list: user have to filter folder and other file type\n",
    "     as well as sort then according. as os.listdir returns unordered file list '''\n",
    "    src = Path(src)\n",
    "    src.joinpath('collaged').mkdir(exist_ok=True)\n",
    "    src = str(Path(src).absolute())\n",
    "\n",
    "    for i in range(0, len(file_list)-3 or 1, 3):\n",
    "        print(src)\n",
    "        l=[]\n",
    "        for j in file_list[i:i+3]:\n",
    "            img = cv2.imread(f\"{src}{sep}{j}\", 1)\n",
    "            l.append(img)\n",
    "\n",
    "        collage = np.vstack(l)\n",
    "        save_img(collage, f\"{src}{sep}collaged{sep}{j}\")"
   ]
  },
  {
   "cell_type": "code",
   "execution_count": 13,
   "metadata": {},
   "outputs": [],
   "source": [
    "def filter_filetype(folder:str, filter_ext:list) -> list['file name']:\n",
    "    for file_path in os.listdir(folder):\n",
    "        ext = img_path[img_path.rfind('.')+1:]\n",
    "        if ext in filter_ext:\n",
    "            yield file_path"
   ]
  },
  {
   "cell_type": "code",
   "execution_count": 14,
   "metadata": {},
   "outputs": [],
   "source": [
    "def fix_crop(img):\n",
    "    # size for chemistry book -> cropped padding from all sides\n",
    "    return img[75:1650, 100:1300]\n",
    "    # # size for ame slides -> crop only a bit from buttom\n",
    "    # return img[900: , :]"
   ]
  },
  {
   "cell_type": "code",
   "execution_count": 15,
   "metadata": {},
   "outputs": [],
   "source": [
    "def replace_logo(img):\n",
    "    ''' changees are made inplace '''\n",
    "    # size for module book\n",
    "    img[1670:1780, 620:780] = [255, 255, 255]\n",
    "    return img"
   ]
  },
  {
   "cell_type": "code",
   "execution_count": 16,
   "metadata": {},
   "outputs": [],
   "source": [
    "img_ext = ['jpg', 'png']\n",
    "def list_image(src):\n",
    "    src = Path(src)\n",
    "    for img_name in os.listdir(src):\n",
    "\n",
    "        ext = img_name[img_name.rfind('.')+1:]\n",
    "        img_path = src.joinpath(img_name)\n",
    "\n",
    "        if img_path.is_file() and ext in img_ext:\n",
    "            yield img_path, img_name"
   ]
  },
  {
   "cell_type": "code",
   "execution_count": 20,
   "metadata": {},
   "outputs": [],
   "source": [
    "def auto_trim(image, pad=10):\n",
    "    gray = cv2.cvtColor(image, cv2.COLOR_BGR2GRAY)\n",
    "    _, thresh = cv2.threshold(gray, 240, 255, cv2.THRESH_BINARY_INV)\n",
    "\n",
    "    contours, _ = cv2.findContours(thresh, cv2.RETR_EXTERNAL, cv2.CHAIN_APPROX_SIMPLE)\n",
    "\n",
    "    x_min, y_min, x_max, y_max = image.shape[1], image.shape[0], 0, 0\n",
    "    for cnt in contours:\n",
    "        x, y, w, h = cv2.boundingRect(cnt)\n",
    "        x_min, y_min = min(x_min, x), min(y_min, y)\n",
    "        x_max, y_max = max(x_max, x + w), max(y_max, y + h)\n",
    "        # break\n",
    "\n",
    "    cropped = image[y_min-pad:y_max+pad, x_min-pad:x_max+pad]\n",
    "    return cropped\n"
   ]
  },
  {
   "cell_type": "markdown",
   "metadata": {},
   "source": [
    "## Work place"
   ]
  },
  {
   "cell_type": "code",
   "execution_count": null,
   "metadata": {},
   "outputs": [
    {
     "name": "stdout",
     "output_type": "stream",
     "text": [
      "mod 1 q\\0001-01.png\n",
      "mod 1 q\\0001-02.png\n",
      "mod 1 q\\0001-03.png\n",
      "mod 1 q\\0001-04.png\n",
      "mod 1 q\\0001-05.png\n",
      "mod 1 q\\0001-06.png\n",
      "mod 1 q\\0001-07.png\n",
      "mod 1 q\\0001-08.png\n",
      "mod 1 q\\0001-09.png\n",
      "mod 1 q\\0001-10.png\n",
      "mod 1 q\\0001-11.png\n",
      "mod 1 q\\0001-12.png\n",
      "mod 1 q\\0001-13.png\n",
      "mod 1 q\\0001-14.png\n",
      "mod 1 q\\0001-15.png\n",
      "mod 1 q\\0001-16.png\n",
      "mod 1 q\\0001-17.png\n",
      "mod 1 q\\0001-18.png\n",
      "mod 1 q\\0001-19.png\n",
      "mod 1 q\\0001-20.png\n",
      "mod 1 q\\0001-21.png\n",
      "mod 1 q\\0001-22.png\n",
      "mod 1 q\\0001-23.png\n",
      "mod 1 q\\0001-24.png\n",
      "mod 1 q\\0001-25.png\n",
      "mod 1 q\\0001-26.png\n",
      "mod 1 q\\0001-27.png\n",
      "mod 1 q\\0001-28.png\n",
      "mod 1 q\\0001-29.png\n",
      "mod 1 q\\0001-30.png\n",
      "mod 1 q\\0001-31.png\n",
      "mod 1 q\\0001-32.png\n",
      "mod 1 q\\0001-33.png\n",
      "mod 1 q\\0001-34.png\n",
      "mod 1 q\\0001-35.png\n",
      "mod 1 q\\0001-36.png\n",
      "mod 1 q\\0001-37.png\n",
      "mod 1 q\\0001-38.png\n",
      "mod 1 q\\0001-39.png\n",
      "mod 1 q\\0001-40.png\n",
      "mod 1 q\\0001-41.png\n",
      "mod 1 q\\0001-42.png\n",
      "mod 1 q\\0001-43.png\n",
      "mod 1 q\\0001-44.png\n",
      "mod 1 q\\0001-45.png\n",
      "mod 1 q\\0001-46.png\n",
      "mod 1 q\\0001-47.png\n",
      "mod 1 q\\0001-48.png\n",
      "mod 1 q\\0001-49.png\n",
      "mod 1 q\\0001-50.png\n",
      "mod 1 q\\0001-51.png\n",
      "mod 1 q\\0001-52.png\n",
      "mod 1 q\\0001-53.png\n",
      "mod 1 q\\0001-54.png\n",
      "mod 1 q\\0001-55.png\n",
      "mod 1 q\\0001-56.png\n",
      "mod 1 q\\0001-57.png\n",
      "mod 1 q\\0001-58.png\n",
      "mod 1 q\\0001-59.png\n",
      "mod 1 q\\0001-60.png\n",
      "mod 1 q\\0001-61.png\n",
      "mod 1 q\\0001-62.png\n",
      "mod 1 q\\0001-63.png\n",
      "mod 1 q\\0001-64.png\n"
     ]
    },
    {
     "ename": "error",
     "evalue": "OpenCV(4.10.0) D:\\a\\opencv-python\\opencv-python\\opencv\\modules\\imgproc\\src\\color.cpp:196: error: (-215:Assertion failed) !_src.empty() in function 'cv::cvtColor'\n",
     "output_type": "error",
     "traceback": [
      "\u001b[1;31m---------------------------------------------------------------------------\u001b[0m",
      "\u001b[1;31merror\u001b[0m                                     Traceback (most recent call last)",
      "Cell \u001b[1;32mIn[25], line 19\u001b[0m\n\u001b[0;32m     14\u001b[0m img \u001b[38;5;241m=\u001b[39m cv2\u001b[38;5;241m.\u001b[39mimread(\u001b[38;5;28mstr\u001b[39m(img_path\u001b[38;5;241m.\u001b[39mabsolute()))\n\u001b[0;32m     18\u001b[0m img \u001b[38;5;241m=\u001b[39m auto_trim(img, \u001b[38;5;241m150\u001b[39m)\n\u001b[1;32m---> 19\u001b[0m im_gray \u001b[38;5;241m=\u001b[39m \u001b[43mcv2\u001b[49m\u001b[38;5;241;43m.\u001b[39;49m\u001b[43mcvtColor\u001b[49m\u001b[43m(\u001b[49m\u001b[43mimg\u001b[49m\u001b[43m,\u001b[49m\u001b[43m \u001b[49m\u001b[43mcv2\u001b[49m\u001b[38;5;241;43m.\u001b[39;49m\u001b[43mCOLOR_BGR2GRAY\u001b[49m\u001b[43m)\u001b[49m\n\u001b[0;32m     20\u001b[0m \u001b[38;5;66;03m# img_bw = replace_logo(img)\u001b[39;00m\n\u001b[0;32m     21\u001b[0m \n\u001b[0;32m     22\u001b[0m \u001b[38;5;66;03m# img_bgr = cv2.imread(str(img_path.absolute()), 1)# 1 is altually passed by default\u001b[39;00m\n\u001b[0;32m     23\u001b[0m \u001b[38;5;66;03m# img_bw = remove_colored_bg(img)\u001b[39;00m\n\u001b[0;32m     26\u001b[0m cv2\u001b[38;5;241m.\u001b[39mimwrite(\u001b[38;5;28mstr\u001b[39m(img_des\u001b[38;5;241m.\u001b[39mabsolute()), im_gray)\n",
      "\u001b[1;31merror\u001b[0m: OpenCV(4.10.0) D:\\a\\opencv-python\\opencv-python\\opencv\\modules\\imgproc\\src\\color.cpp:196: error: (-215:Assertion failed) !_src.empty() in function 'cv::cvtColor'\n"
     ]
    }
   ],
   "source": [
    "src = '/content/drive/MyDrive/Sawn 1.2'\n",
    "src = 'c3'\n",
    "src = \"mod 1 q\"\n",
    "src = r\"essential chemistry\\5\"\n",
    "\n",
    "src = Path(src)\n",
    "sep = src._flavour.sep\n",
    "dst = src.joinpath('black_white')\n",
    "dst.mkdir(exist_ok=True)\n",
    "\n",
    "\n",
    "for img_path, img_name in list_image(src):\n",
    "    print(img_path)\n",
    "    img_des = dst.joinpath(img_name)\n",
    "    img = cv2.imread(str(img_path.absolute()))\n",
    "\n",
    "\n",
    "\n",
    "    img = auto_trim(img, 20)\n",
    "    im_gray = cv2.cvtColor(img, cv2.COLOR_BGR2GRAY)\n",
    "    # img_bw = replace_logo(img)\n",
    "\n",
    "    # img_bgr = cv2.imread(str(img_path.absolute()), 1)# 1 is altually passed by default\n",
    "    # img_bw = remove_colored_bg(img)\n",
    "\n",
    "\n",
    "    cv2.imwrite(str(img_des.absolute()), im_gray)\n",
    "    break\n"
   ]
  },
  {
   "cell_type": "markdown",
   "metadata": {},
   "source": [
    "### college"
   ]
  },
  {
   "cell_type": "code",
   "execution_count": 27,
   "metadata": {},
   "outputs": [
    {
     "name": "stdout",
     "output_type": "stream",
     "text": [
      "['0001-01.png', '0001-02.png', '0001-03.png', '0001-04.png', '0001-05.png', '0001-06.png', '0001-07.png', '0001-08.png', '0001-09.png', '0001-10.png', '0001-11.png', '0001-12.png', '0001-13.png', '0001-14.png', '0001-15.png', '0001-16.png', '0001-17.png', '0001-18.png', '0001-19.png', '0001-20.png', '0001-21.png', '0001-22.png', '0001-23.png', '0001-24.png', '0001-25.png', '0001-26.png', '0001-27.png', '0001-28.png', '0001-29.png', '0001-30.png', '0001-31.png', '0001-32.png', '0001-33.png', '0001-34.png', '0001-35.png', '0001-36.png', '0001-37.png', '0001-38.png', '0001-39.png', '0001-40.png', '0001-41.png', '0001-42.png', '0001-43.png', '0001-44.png', '0001-45.png', '0001-46.png', '0001-47.png', '0001-48.png', '0001-49.png', '0001-50.png', '0001-51.png', '0001-52.png', '0001-53.png', '0001-54.png', '0001-55.png', '0001-56.png', '0001-57.png', '0001-58.png', '0001-59.png', '0001-60.png', '0001-61.png', '0001-62.png', '0001-63.png', '0001-64.png']\n"
     ]
    }
   ],
   "source": [
    "dst = src.joinpath('colleged')\n",
    "dst.mkdir(exist_ok=True)\n",
    "\n",
    "l = []\n",
    "for img_path, img_name in list_image(src):\n",
    "    l.append(img_name)\n",
    "\n",
    "def key_num(x: str):\n",
    "    '''logic: \n",
    "        - split the extextion\n",
    "        - take digits from the rightmost dash ( _ )\n",
    "    '''\n",
    "    return int(str(x).rsplit(\".\", 1)[0].rsplit(\"-\", 1)[-1])\n",
    "    # return int(re.search('1.2_(\\d*)', x).group(1))\n",
    "\n",
    "l.sort(key=key_num)\n",
    "print(l)\n",
    "# collage_pic(src, l)"
   ]
  },
  {
   "cell_type": "code",
   "execution_count": null,
   "metadata": {},
   "outputs": [],
   "source": []
  },
  {
   "cell_type": "code",
   "execution_count": null,
   "metadata": {},
   "outputs": [],
   "source": []
  },
  {
   "cell_type": "code",
   "execution_count": null,
   "metadata": {},
   "outputs": [],
   "source": []
  }
 ],
 "metadata": {
  "kernelspec": {
   "display_name": "Python 3",
   "language": "python",
   "name": "python3"
  },
  "language_info": {
   "codemirror_mode": {
    "name": "ipython",
    "version": 3
   },
   "file_extension": ".py",
   "mimetype": "text/x-python",
   "name": "python",
   "nbconvert_exporter": "python",
   "pygments_lexer": "ipython3",
   "version": "3.11.9"
  }
 },
 "nbformat": 4,
 "nbformat_minor": 2
}
